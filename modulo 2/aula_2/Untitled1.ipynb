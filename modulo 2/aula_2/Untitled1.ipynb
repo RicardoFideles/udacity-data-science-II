{
 "cells": [
  {
   "cell_type": "code",
   "execution_count": 1,
   "metadata": {},
   "outputs": [],
   "source": [
    "import pandas as pd\n",
    "import wptools\n",
    "import os\n",
    "import requests\n",
    "from PIL import Image\n",
    "from io import BytesIO"
   ]
  },
  {
   "cell_type": "code",
   "execution_count": 2,
   "metadata": {},
   "outputs": [],
   "source": [
    "title_list = [\n",
    " 'The_Wizard_of_Oz_(1939_film)',\n",
    " 'Citizen_Kane',\n",
    " 'The_Third_Man',\n",
    " 'Get_Out_(film)',\n",
    " 'Mad_Max:_Fury_Road',\n",
    " 'The_Cabinet_of_Dr._Caligari',\n",
    " 'All_About_Eve',\n",
    " 'Inside_Out_(2015_film)',\n",
    " 'The_Godfather',\n",
    " 'Metropolis_(1927_film)',\n",
    " 'E.T._the_Extra-Terrestrial',\n",
    " 'Modern_Times_(film)',\n",
    " 'It_Happened_One_Night',\n",
    " \"Singin'_in_the_Rain\",\n",
    " 'Boyhood_(film)',\n",
    " 'Casablanca_(film)',\n",
    " 'Moonlight_(2016_film)',\n",
    " 'Psycho_(1960_film)',\n",
    " 'Laura_(1944_film)',\n",
    " 'Nosferatu',\n",
    " 'Snow_White_and_the_Seven_Dwarfs_(1937_film)',\n",
    " \"A_Hard_Day%27s_Night_(film)\",\n",
    " 'La_Grande_Illusion',\n",
    " 'North_by_Northwest',\n",
    " 'The_Battle_of_Algiers',\n",
    " 'Dunkirk_(2017_film)',\n",
    " 'The_Maltese_Falcon_(1941_film)',\n",
    " 'Repulsion_(film)',\n",
    " '12_Years_a_Slave_(film)',\n",
    " 'Gravity_(2013_film)',\n",
    " 'Sunset_Boulevard_(film)',\n",
    " 'King_Kong_(1933_film)',\n",
    " 'Spotlight_(film)',\n",
    " 'The_Adventures_of_Robin_Hood',\n",
    " 'Rashomon',\n",
    " 'Rear_Window',\n",
    " 'Selma_(film)',\n",
    " 'Taxi_Driver',\n",
    " 'Toy_Story_3',\n",
    " 'Argo_(2012_film)',\n",
    " 'Toy_Story_2',\n",
    " 'The_Big_Sick',\n",
    " 'Bride_of_Frankenstein',\n",
    " 'Zootopia',\n",
    " 'M_(1931_film)',\n",
    " 'Wonder_Woman_(2017_film)',\n",
    " 'The_Philadelphia_Story_(film)',\n",
    " 'Alien_(film)',\n",
    " 'Bicycle_Thieves',\n",
    " 'Seven_Samurai',\n",
    " 'The_Treasure_of_the_Sierra_Madre_(film)',\n",
    " 'Up_(2009_film)',\n",
    " '12_Angry_Men_(1957_film)',\n",
    " 'The_400_Blows',\n",
    " 'Logan_(film)',\n",
    " 'All_Quiet_on_the_Western_Front_(1930_film)',\n",
    " 'Army_of_Shadows',\n",
    " 'Arrival_(film)',\n",
    " 'Baby_Driver',\n",
    " 'A_Streetcar_Named_Desire_(1951_film)',\n",
    " 'The_Night_of_the_Hunter_(film)',\n",
    " 'Star_Wars:_The_Force_Awakens',\n",
    " 'Manchester_by_the_Sea_(film)',\n",
    " 'Dr._Strangelove',\n",
    " 'Frankenstein_(1931_film)',\n",
    " 'Vertigo_(film)',\n",
    " 'The_Dark_Knight_(film)',\n",
    " 'Touch_of_Evil',\n",
    " 'The_Babadook',\n",
    " 'The_Conformist_(film)',\n",
    " 'Rebecca_(1940_film)',\n",
    " \"Rosemary%27s_Baby_(film)\",\n",
    " 'Finding_Nemo',\n",
    " 'Brooklyn_(film)',\n",
    " 'The_Wrestler_(2008_film)',\n",
    " 'The_39_Steps_(1935_film)',\n",
    " 'L.A._Confidential_(film)',\n",
    " 'Gone_with_the_Wind_(film)',\n",
    " 'The_Good,_the_Bad_and_the_Ugly',\n",
    " 'Skyfall',\n",
    " 'Rome,_Open_City',\n",
    " 'Tokyo_Story',\n",
    " 'Hell_or_High_Water_(film)',\n",
    " 'Pinocchio_(1940_film)',\n",
    " 'The_Jungle_Book_(2016_film)',\n",
    " 'La_La_Land_(film)',\n",
    " 'Star_Trek_(film)',\n",
    " 'High_Noon',\n",
    " 'Apocalypse_Now',\n",
    " 'On_the_Waterfront',\n",
    " 'The_Wages_of_Fear',\n",
    " 'The_Last_Picture_Show',\n",
    " 'Harry_Potter_and_the_Deathly_Hallows_–_Part_2',\n",
    " 'The_Grapes_of_Wrath_(film)',\n",
    " 'Roman_Holiday',\n",
    " 'Man_on_Wire',\n",
    " 'Jaws_(film)',\n",
    " 'Toy_Story',\n",
    " 'The_Godfather_Part_II',\n",
    " 'Battleship_Potemkin'\n",
    "]"
   ]
  },
  {
   "cell_type": "code",
   "execution_count": 3,
   "metadata": {},
   "outputs": [],
   "source": [
    "folder_name = 'bestofrt_posters'\n",
    "# Make directory if it doesn't already exist\n",
    "if not os.path.exists(folder_name):\n",
    "    os.makedirs(folder_name)"
   ]
  },
  {
   "cell_type": "markdown",
   "metadata": {},
   "source": [
    "#### Note: the cell below, if correctly implemented, will likely take ~5 minutes to run."
   ]
  },
  {
   "cell_type": "code",
   "execution_count": null,
   "metadata": {},
   "outputs": [
    {
     "name": "stdout",
     "output_type": "stream",
     "text": [
      "1\n",
      "The_Wizard_of_Oz_(1939_film)\n",
      "{'kind': 'query-pageimage', 'file': 'File:WIZARD OF OZ ORIGINAL POSTER 1939.jpg', 'orig': 'WIZARD_OF_OZ_ORIGINAL_POSTER_1939.jpg', 'timestamp': '2014-11-22T20:43:42Z', 'size': 4721014, 'width': 2094, 'height': 3179, 'url': 'https://upload.wikimedia.org/wikipedia/commons/c/ca/WIZARD_OF_OZ_ORIGINAL_POSTER_1939.jpg', 'descriptionurl': 'https://commons.wikimedia.org/wiki/File:WIZARD_OF_OZ_ORIGINAL_POSTER_1939.jpg', 'descriptionshorturl': 'https://commons.wikimedia.org/w/index.php?curid=17590952', 'title': 'File:WIZARD OF OZ ORIGINAL POSTER 1939.jpg', 'metadata': {'DateTime': {'value': '2014-11-22 20:43:42', 'source': 'mediawiki-metadata', 'hidden': ''}, 'ObjectName': {'value': 'WIZARD OF OZ ORIGINAL POSTER 1939', 'source': 'mediawiki-metadata', 'hidden': ''}, 'CommonsMetadataExtension': {'value': 1.2, 'source': 'extension', 'hidden': ''}, 'Categories': {'value': 'Movie posters of the United States, 1939|PD US not renewed|Posted to Wikimedia Foundation Pinterest|The Wizard of Oz (film)', 'source': 'commons-categories', 'hidden': ''}, 'Assessments': {'value': '', 'source': 'commons-categories', 'hidden': ''}, 'ImageDescription': {'value': 'Wizard of OZ movie poster', 'source': 'commons-desc-page'}, 'DateTimeOriginal': {'value': '1939', 'source': 'commons-desc-page'}, 'Credit': {'value': '<a rel=\"nofollow\" class=\"external free\" href=\"http://daw.dyndns.org/images/movies/posters/wizard%20of%20oz.jpg\">http://daw.dyndns.org/images/movies/posters/wizard%20of%20oz.jpg</a><br>alt source: <a rel=\"nofollow\" class=\"external autonumber\" href=\"http://www.stageandcinema.com/2012/05/25/last-remaining-seats-2012/\">[1]</a>', 'source': 'commons-desc-page', 'hidden': ''}, 'Artist': {'value': 'MGM', 'source': 'commons-desc-page'}, 'Permission': {'value': '<p>This poster was created before 1977, and does not have a copyright notice on it. It therefore qualifies as Public Domain under <a href=\"https://en.wikipedia.org/wiki/WP:NFC\" class=\"extiw\" title=\"w:WP:NFC\">w:WP:NFC</a>: \"If a work has no copyright or is licensed to Wikipedia under an acceptable \"free\" license, it is a free work and may be used on Wikipedia without copyright concerns.\" \\n</p>', 'source': 'commons-desc-page', 'hidden': ''}, 'LicenseShortName': {'value': 'Public domain', 'source': 'commons-desc-page', 'hidden': ''}, 'UsageTerms': {'value': 'Public domain', 'source': 'commons-desc-page', 'hidden': ''}, 'AttributionRequired': {'value': 'false', 'source': 'commons-desc-page', 'hidden': ''}, 'Copyrighted': {'value': 'False', 'source': 'commons-desc-page', 'hidden': ''}, 'Restrictions': {'value': '', 'source': 'commons-desc-page', 'hidden': ''}, 'License': {'value': 'pd', 'source': 'commons-templates', 'hidden': ''}}}\n",
      "1_The_Wizard_of_Oz_(1939_film): 'dict' object has no attribute 'split'\n",
      "2\n",
      "Citizen_Kane\n",
      "{'kind': 'parse-image', 'file': 'File:Citizenkane.jpg', 'orig': 'Citizenkane.jpg', 'timestamp': '2017-02-13T07:48:40Z', 'size': 27461, 'width': 260, 'height': 382, 'url': 'https://upload.wikimedia.org/wikipedia/en/c/ce/Citizenkane.jpg', 'descriptionurl': 'https://en.wikipedia.org/wiki/File:Citizenkane.jpg', 'descriptionshorturl': 'https://en.wikipedia.org/w/index.php?curid=2470723', 'title': 'File:Citizenkane.jpg', 'metadata': {'DateTime': {'value': '2017-02-13 07:48:40', 'source': 'mediawiki-metadata', 'hidden': ''}, 'ObjectName': {'value': 'Citizenkane', 'source': 'mediawiki-metadata', 'hidden': ''}, 'CommonsMetadataExtension': {'value': 1.2, 'source': 'extension', 'hidden': ''}, 'Categories': {'value': 'All non-free media|Citizen Kane|Fair use images of movie posters|Noindexed pages|Non-free posters|Orson Welles|Wikipedia non-free files with NFUR stated|Wikipedia non-free files with valid backlink', 'source': 'commons-categories', 'hidden': ''}, 'Assessments': {'value': '', 'source': 'commons-categories', 'hidden': ''}, 'ImageDescription': {'value': '<p>poster for <a href=\"//en.wikipedia.org/wiki/Citizen_Kane\" title=\"Citizen Kane\">Citizen Kane</a>\\n</p>', 'source': 'commons-desc-page'}, 'Credit': {'value': '<p>Publicity material from movie distributor  1941 RKO/Turner Entertainment\\n</p>', 'source': 'commons-desc-page', 'hidden': ''}, 'DateTimeOriginal': {'value': '<p>© 1941\\n</p>', 'source': 'commons-desc-page'}, 'Artist': {'value': '<p>© 1941 RKO/Turner Entertainment\\n</p>', 'source': 'commons-desc-page'}, 'Permission': {'value': '<p>Non-free album cover\\n</p>\\n<p><br></p>', 'source': 'commons-desc-page', 'hidden': ''}, 'LicenseShortName': {'value': 'Fair use', 'source': 'commons-desc-page', 'hidden': ''}, 'UsageTerms': {'value': '<a href=\"//en.wikipedia.org/wiki/Wikipedia:Non-free_use_rationale_guideline\" title=\"Wikipedia:Non-free use rationale guideline\">Fair use</a> of copyrighted material in the context of <a href=\"//en.wikipedia.org/wiki/Citizen_Kane\" title=\"Citizen Kane\">Citizen Kane</a>', 'source': 'commons-desc-page', 'hidden': ''}, 'Attribution': {'value': 'Source', 'source': 'commons-desc-page', 'hidden': ''}, 'LicenseUrl': {'value': '//en.wikipedia.org/wiki/File:Citizenkane.jpg', 'source': 'commons-desc-page', 'hidden': ''}, 'NonFree': {'value': 'true', 'source': 'commons-desc-page', 'hidden': ''}, 'Copyrighted': {'value': 'True', 'source': 'commons-desc-page', 'hidden': ''}, 'Restrictions': {'value': '', 'source': 'commons-desc-page', 'hidden': ''}}}\n",
      "2_Citizen_Kane: 'dict' object has no attribute 'split'\n",
      "3\n",
      "The_Third_Man\n",
      "{'kind': 'parse-image', 'file': 'File:ThirdManUSPoster.jpg', 'orig': 'ThirdManUSPoster.jpg', 'timestamp': '2014-05-05T06:01:37Z', 'size': 68727, 'width': 262, 'height': 398, 'url': 'https://upload.wikimedia.org/wikipedia/en/2/21/ThirdManUSPoster.jpg', 'descriptionurl': 'https://en.wikipedia.org/wiki/File:ThirdManUSPoster.jpg', 'descriptionshorturl': 'https://en.wikipedia.org/w/index.php?curid=2869806', 'title': 'File:ThirdManUSPoster.jpg', 'metadata': {'DateTime': {'value': '2014-05-05 06:01:37', 'source': 'mediawiki-metadata', 'hidden': ''}, 'ObjectName': {'value': 'ThirdManUSPoster', 'source': 'mediawiki-metadata', 'hidden': ''}, 'CommonsMetadataExtension': {'value': 1.2, 'source': 'extension', 'hidden': ''}, 'Categories': {'value': 'All non-free media|Fair use images of movie posters|Files with no machine-readable author|Noindexed pages|Non-free posters|Orson Welles|Wikipedia non-free files with NFUR stated|Wikipedia non-free files with valid backlink', 'source': 'commons-categories', 'hidden': ''}, 'Assessments': {'value': '', 'source': 'commons-categories', 'hidden': ''}, 'ImageDescription': {'value': '<p>This is a poster for  <i>The Third Man</i>. <br>The poster art copyright is believed to belong to the distributor of the film,  the publisher of the film or the graphic artist.\\n</p>', 'source': 'commons-desc-page'}, 'Credit': {'value': '<p><a rel=\"nofollow\" class=\"external text\" href=\"http://www.movieposterdb.com/poster/5040049b\">Movie Poster Database</a>\\n</p>', 'source': 'commons-desc-page', 'hidden': ''}, 'LicenseShortName': {'value': 'Fair use', 'source': 'commons-desc-page', 'hidden': ''}, 'UsageTerms': {'value': '<a href=\"//en.wikipedia.org/wiki/Wikipedia:Non-free_use_rationale_guideline\" title=\"Wikipedia:Non-free use rationale guideline\">Fair use</a> of copyrighted material in the context of <a href=\"//en.wikipedia.org/wiki/The_Third_Man\" title=\"The Third Man\">The Third Man</a>', 'source': 'commons-desc-page', 'hidden': ''}, 'Attribution': {'value': 'Source', 'source': 'commons-desc-page', 'hidden': ''}, 'LicenseUrl': {'value': '//en.wikipedia.org/wiki/File:ThirdManUSPoster.jpg', 'source': 'commons-desc-page', 'hidden': ''}, 'NonFree': {'value': 'true', 'source': 'commons-desc-page', 'hidden': ''}, 'Copyrighted': {'value': 'True', 'source': 'commons-desc-page', 'hidden': ''}, 'Restrictions': {'value': '', 'source': 'commons-desc-page', 'hidden': ''}}}\n",
      "3_The_Third_Man: 'dict' object has no attribute 'split'\n",
      "4\n",
      "Get_Out_(film)\n",
      "{'kind': 'parse-image', 'file': 'File:Get Out poster.png', 'orig': 'Get Out poster.png', 'timestamp': '2018-11-19T10:03:39Z', 'size': 158760, 'width': 220, 'height': 330, 'url': 'https://upload.wikimedia.org/wikipedia/en/a/a3/Get_Out_poster.png', 'descriptionurl': 'https://en.wikipedia.org/wiki/File:Get_Out_poster.png', 'descriptionshorturl': 'https://en.wikipedia.org/w/index.php?curid=53245463', 'title': 'File:Get Out poster.png', 'metadata': {'DateTime': {'value': '2018-11-19 10:03:39', 'source': 'mediawiki-metadata', 'hidden': ''}, 'ObjectName': {'value': 'Get Out poster', 'source': 'mediawiki-metadata', 'hidden': ''}, 'CommonsMetadataExtension': {'value': 1.2, 'source': 'extension', 'hidden': ''}, 'Categories': {'value': 'All non-free media|Files with no machine-readable author|Noindexed pages|Non-free posters|Wikipedia non-free files with NFUR stated|Wikipedia non-free files with valid backlink', 'source': 'commons-categories', 'hidden': ''}, 'Assessments': {'value': '', 'source': 'commons-categories', 'hidden': ''}, 'ImageDescription': {'value': '<p>This is a poster for  <i>Get Out</i>. <br>The poster art copyright is believed to belong to the distributor of the film,  the publisher of the film or the graphic artist.\\n</p>', 'source': 'commons-desc-page'}, 'Credit': {'value': '<p>The poster art can or could be obtained from the distributor.\\n</p>', 'source': 'commons-desc-page', 'hidden': ''}, 'LicenseShortName': {'value': 'Fair use', 'source': 'commons-desc-page', 'hidden': ''}, 'UsageTerms': {'value': '<a href=\"//en.wikipedia.org/wiki/Wikipedia:Non-free_use_rationale_guideline\" title=\"Wikipedia:Non-free use rationale guideline\">Fair use</a> of copyrighted material in the context of <a href=\"//en.wikipedia.org/wiki/Get_Out\" title=\"Get Out\">Get Out</a>', 'source': 'commons-desc-page', 'hidden': ''}, 'Attribution': {'value': 'Source', 'source': 'commons-desc-page', 'hidden': ''}, 'LicenseUrl': {'value': '//en.wikipedia.org/wiki/File:Get_Out_poster.png', 'source': 'commons-desc-page', 'hidden': ''}, 'NonFree': {'value': 'true', 'source': 'commons-desc-page', 'hidden': ''}, 'Copyrighted': {'value': 'True', 'source': 'commons-desc-page', 'hidden': ''}, 'Restrictions': {'value': '', 'source': 'commons-desc-page', 'hidden': ''}}}\n"
     ]
    },
    {
     "name": "stdout",
     "output_type": "stream",
     "text": [
      "4_Get_Out_(film): 'dict' object has no attribute 'split'\n",
      "5\n",
      "Mad_Max:_Fury_Road\n",
      "{'kind': 'parse-image', 'file': 'File:Mad Max Fury Road.jpg', 'orig': 'Mad Max Fury Road.jpg', 'timestamp': '2017-11-20T22:46:37Z', 'size': 148931, 'width': 220, 'height': 314, 'url': 'https://upload.wikimedia.org/wikipedia/en/6/6e/Mad_Max_Fury_Road.jpg', 'descriptionurl': 'https://en.wikipedia.org/wiki/File:Mad_Max_Fury_Road.jpg', 'descriptionshorturl': 'https://en.wikipedia.org/w/index.php?curid=46349290', 'title': 'File:Mad Max Fury Road.jpg', 'metadata': {'DateTime': {'value': '2017-11-20 22:46:37', 'source': 'mediawiki-metadata', 'hidden': ''}, 'ObjectName': {'value': 'Mad Max Fury Road', 'source': 'mediawiki-metadata', 'hidden': ''}, 'CommonsMetadataExtension': {'value': 1.2, 'source': 'extension', 'hidden': ''}, 'Categories': {'value': 'All non-free media|Files with no machine-readable author|Noindexed pages|Non-free posters|Wikipedia non-free files with NFUR stated|Wikipedia non-free files with NFUR stated (bot-assessed)|Wikipedia non-free files with valid backlink', 'source': 'commons-categories', 'hidden': ''}, 'Assessments': {'value': '', 'source': 'commons-categories', 'hidden': ''}, 'ImageDescription': {'value': '<p>This is a poster for  <i>Mad Max: Fury Road</i>. <br>The poster art copyright is believed to belong to the distributor of the item promoted, <a href=\"//en.wikipedia.org/wiki/Warner_Bros._Pictures\" class=\"mw-redirect\" title=\"Warner Bros. Pictures\">Warner Bros. Pictures</a>,  the publisher of the item promoted or the graphic artist.\\n</p>', 'source': 'commons-desc-page'}, 'Credit': {'value': '<p>May be found at the following website: <a rel=\"nofollow\" class=\"external free\" href=\"http://www.impawards.com/intl/australia/2015/posters/mad_max_fury_road_ver13_xlg.jpg\">http://www.impawards.com/intl/australia/2015/posters/mad_max_fury_road_ver13_xlg.jpg</a>\\n</p>', 'source': 'commons-desc-page', 'hidden': ''}, 'LicenseShortName': {'value': 'Fair use', 'source': 'commons-desc-page', 'hidden': ''}, 'UsageTerms': {'value': '<a href=\"//en.wikipedia.org/wiki/Wikipedia:Non-free_use_rationale_guideline\" title=\"Wikipedia:Non-free use rationale guideline\">Fair use</a> of copyrighted material in the context of <a href=\"//en.wikipedia.org/wiki/Mad_Max:_Fury_Road\" title=\"Mad Max: Fury Road\">Mad Max: Fury Road</a>', 'source': 'commons-desc-page', 'hidden': ''}, 'Attribution': {'value': 'Source', 'source': 'commons-desc-page', 'hidden': ''}, 'LicenseUrl': {'value': '//en.wikipedia.org/wiki/File:Mad_Max_Fury_Road.jpg', 'source': 'commons-desc-page', 'hidden': ''}, 'NonFree': {'value': 'true', 'source': 'commons-desc-page', 'hidden': ''}, 'Copyrighted': {'value': 'True', 'source': 'commons-desc-page', 'hidden': ''}, 'Restrictions': {'value': '', 'source': 'commons-desc-page', 'hidden': ''}}}\n",
      "5_Mad_Max:_Fury_Road: 'dict' object has no attribute 'split'\n",
      "6\n",
      "The_Cabinet_of_Dr._Caligari\n",
      "{'kind': 'query-pageimage', 'file': 'File:Das Cabinet des Dr. Caligari.JPG', 'orig': 'Das_Cabinet_des_Dr._Caligari.JPG', 'timestamp': '2018-03-08T09:32:43Z', 'size': 606729, 'width': 1280, 'height': 1725, 'url': 'https://upload.wikimedia.org/wikipedia/commons/5/52/Das_Cabinet_des_Dr._Caligari.JPG', 'descriptionurl': 'https://commons.wikimedia.org/wiki/File:Das_Cabinet_des_Dr._Caligari.JPG', 'descriptionshorturl': 'https://commons.wikimedia.org/w/index.php?curid=19571390', 'title': 'File:Das Cabinet des Dr. Caligari.JPG', 'metadata': {'DateTime': {'value': '2018-03-08 09:32:43', 'source': 'mediawiki-metadata', 'hidden': ''}, 'ObjectName': {'value': 'Das Cabinet des Dr. Caligari', 'source': 'mediawiki-metadata', 'hidden': ''}, 'CommonsMetadataExtension': {'value': 1.2, 'source': 'extension', 'hidden': ''}, 'Categories': {'value': 'Das Cabinet des Dr. Caligari|PD US', 'source': 'commons-categories', 'hidden': ''}, 'Assessments': {'value': '', 'source': 'commons-categories', 'hidden': ''}, 'ImageDescription': {'value': '<i>Das Cabinet des Dr. Caligari</i> poster', 'source': 'commons-desc-page'}, 'DateTimeOriginal': {'value': '1921', 'source': 'commons-desc-page'}, 'Credit': {'value': '<a rel=\"nofollow\" class=\"external free\" href=\"http://blackholereviews.blogspot.fr/2012/05/cabinet-of-dr-caligari-1920-fundamental.html\">http://blackholereviews.blogspot.fr/2012/05/cabinet-of-dr-caligari-1920-fundamental.html</a>', 'source': 'commons-desc-page', 'hidden': ''}, 'Artist': {'value': 'Atelier Ledl Bernhard', 'source': 'commons-desc-page'}, 'LicenseShortName': {'value': 'Public domain', 'source': 'commons-desc-page', 'hidden': ''}, 'UsageTerms': {'value': 'Public domain', 'source': 'commons-desc-page', 'hidden': ''}, 'AttributionRequired': {'value': 'false', 'source': 'commons-desc-page', 'hidden': ''}, 'Copyrighted': {'value': 'False', 'source': 'commons-desc-page', 'hidden': ''}, 'Restrictions': {'value': '', 'source': 'commons-desc-page', 'hidden': ''}, 'License': {'value': 'pd', 'source': 'commons-templates', 'hidden': ''}}}\n",
      "6_The_Cabinet_of_Dr._Caligari: 'dict' object has no attribute 'split'\n",
      "7\n",
      "All_About_Eve\n",
      "{'kind': 'parse-image', 'file': 'File:AllAboutEve.jpeg', 'orig': 'AllAboutEve.jpeg', 'timestamp': '2017-08-30T18:20:02Z', 'size': 134353, 'width': 220, 'height': 335, 'url': 'https://upload.wikimedia.org/wikipedia/en/2/22/AllAboutEve.jpeg', 'descriptionurl': 'https://en.wikipedia.org/wiki/File:AllAboutEve.jpeg', 'descriptionshorturl': 'https://en.wikipedia.org/w/index.php?curid=9117541', 'title': 'File:AllAboutEve.jpeg', 'metadata': {'DateTime': {'value': '2017-08-30 18:20:02', 'source': 'mediawiki-metadata', 'hidden': ''}, 'ObjectName': {'value': 'AllAboutEve', 'source': 'mediawiki-metadata', 'hidden': ''}, 'CommonsMetadataExtension': {'value': 1.2, 'source': 'extension', 'hidden': ''}, 'Categories': {'value': 'All non-free media|Fair use images of movie posters|Files with no machine-readable author|Files with no machine-readable description|Files with no machine-readable license|Files with no machine-readable source|Noindexed pages|Non-free posters|Wikipedia non-free files with NFUR stated', 'source': 'commons-categories', 'hidden': ''}, 'Assessments': {'value': '', 'source': 'commons-categories', 'hidden': ''}, 'NonFree': {'value': 'true', 'source': 'commons-desc-page', 'hidden': ''}, 'Restrictions': {'value': '', 'source': 'commons-desc-page', 'hidden': ''}}}\n",
      "7_All_About_Eve: 'dict' object has no attribute 'split'\n",
      "8\n",
      "Inside_Out_(2015_film)\n",
      "{'kind': 'parse-image', 'file': 'File:Inside Out (2015 film) poster.jpg', 'orig': 'Inside Out (2015 film) poster.jpg', 'timestamp': '2017-09-12T13:01:50Z', 'size': 136093, 'width': 220, 'height': 326, 'url': 'https://upload.wikimedia.org/wikipedia/en/0/0a/Inside_Out_%282015_film%29_poster.jpg', 'descriptionurl': 'https://en.wikipedia.org/wiki/File:Inside_Out_(2015_film)_poster.jpg', 'descriptionshorturl': 'https://en.wikipedia.org/w/index.php?curid=45669660', 'title': 'File:Inside Out (2015 film) poster.jpg', 'metadata': {'DateTime': {'value': '2017-09-12 13:01:50', 'source': 'mediawiki-metadata', 'hidden': ''}, 'ObjectName': {'value': 'Inside Out (2015 film) poster', 'source': 'mediawiki-metadata', 'hidden': ''}, 'CommonsMetadataExtension': {'value': 1.2, 'source': 'extension', 'hidden': ''}, 'Categories': {'value': 'All non-free media|Files with no machine-readable author|Noindexed pages|Non-free posters|Wikipedia non-free files with NFUR stated|Wikipedia non-free files with valid backlink', 'source': 'commons-categories', 'hidden': ''}, 'Assessments': {'value': '', 'source': 'commons-categories', 'hidden': ''}, 'ImageDescription': {'value': '<p>This is a poster for  <i>Inside Out</i>. <br>The poster art copyright is believed to belong to the distributor of the film, <a href=\"//en.wikipedia.org/wiki/Walt_Disney_Studios_Motion_Pictures\" title=\"Walt Disney Studios Motion Pictures\">Walt Disney Studios Motion Pictures</a>,  the publisher of the film or the graphic artist.\\n</p>', 'source': 'commons-desc-page'}, 'Credit': {'value': '<p>The cover art can or could be obtained from <a rel=\"nofollow\" class=\"external free\" href=\"http://www.impawards.com/2015/inside_out_ver13.html\">http://www.impawards.com/2015/inside_out_ver13.html</a>\\n</p>', 'source': 'commons-desc-page', 'hidden': ''}, 'LicenseShortName': {'value': 'Fair use', 'source': 'commons-desc-page', 'hidden': ''}, 'UsageTerms': {'value': '<a href=\"//en.wikipedia.org/wiki/Wikipedia:Non-free_use_rationale_guideline\" title=\"Wikipedia:Non-free use rationale guideline\">Fair use</a> of copyrighted material in the context of <a href=\"//en.wikipedia.org/wiki/Inside_Out_(2015_film)\" title=\"Inside Out (2015 film)\">Inside Out (2015 film)</a>', 'source': 'commons-desc-page', 'hidden': ''}, 'Attribution': {'value': 'Source', 'source': 'commons-desc-page', 'hidden': ''}, 'LicenseUrl': {'value': '//en.wikipedia.org/wiki/File:Inside_Out_(2015_film)_poster.jpg', 'source': 'commons-desc-page', 'hidden': ''}, 'NonFree': {'value': 'true', 'source': 'commons-desc-page', 'hidden': ''}, 'Copyrighted': {'value': 'True', 'source': 'commons-desc-page', 'hidden': ''}, 'Restrictions': {'value': '', 'source': 'commons-desc-page', 'hidden': ''}}}\n"
     ]
    },
    {
     "name": "stdout",
     "output_type": "stream",
     "text": [
      "8_Inside_Out_(2015_film): 'dict' object has no attribute 'split'\n",
      "9\n",
      "The_Godfather\n"
     ]
    }
   ],
   "source": [
    "# List of dictionaries to build and convert to a DataFrame later\n",
    "df_list = []\n",
    "image_errors = {}\n",
    "for title in title_list:\n",
    "    try:\n",
    "        # This cell is slow so print ranking to gauge time remaining\n",
    "        ranking = title_list.index(title) + 1\n",
    "        print(ranking)\n",
    "        print(title)\n",
    "        page = wptools.page(title, silent=True).get()\n",
    "        # Your code here (three lines)\n",
    "        images = page.data['image']\n",
    "        # First image is usually the poster\n",
    "        first_image_url = images[0]\n",
    "        print(first_image_url)\n",
    "        r = requests.get(first_image_url['url'])\n",
    "        # Download movie poster image\n",
    "        i = Image.open(BytesIO(r.content))\n",
    "        image_file_format = first_image_url.split('.')[-1]\n",
    "        i.save(folder_name + \"/\" + str(ranking) + \"_\" + title + '.' + image_file_format)\n",
    "        # Append to list of dictionaries\n",
    "        df_list.append({'ranking': int(ranking),\n",
    "                        'title': title,\n",
    "                        'poster_url': first_image_url})\n",
    "    \n",
    "    # Not best practice to catch all exceptions but fine for this short script\n",
    "    except Exception as e:\n",
    "        print(str(ranking) + \"_\" + title + \": \" + str(e))\n",
    "        image_errors[str(ranking) + \"_\" + title] = images"
   ]
  },
  {
   "cell_type": "markdown",
   "metadata": {},
   "source": [
    "One you have completed the above code requirements, read and run the three cells below and interpret their output."
   ]
  },
  {
   "cell_type": "code",
   "execution_count": null,
   "metadata": {},
   "outputs": [],
   "source": [
    "for key in image_errors.keys():\n",
    "    print(key)"
   ]
  },
  {
   "cell_type": "code",
   "execution_count": null,
   "metadata": {},
   "outputs": [],
   "source": [
    "# Inspect unidentifiable images and download them individually\n",
    "for rank_title, images in image_errors.items():\n",
    "    if rank_title == '22_A_Hard_Day%27s_Night_(film)':\n",
    "        url = 'https://upload.wikimedia.org/wikipedia/en/4/47/A_Hard_Days_night_movieposter.jpg'\n",
    "    if rank_title == '53_12_Angry_Men_(1957_film)':\n",
    "        url = 'https://upload.wikimedia.org/wikipedia/en/9/91/12_angry_men.jpg'\n",
    "    if rank_title == '72_Rosemary%27s_Baby_(film)':\n",
    "        url = 'https://upload.wikimedia.org/wikipedia/en/e/ef/Rosemarys_baby_poster.jpg'\n",
    "    if rank_title == '93_Harry_Potter_and_the_Deathly_Hallows_–_Part_2':\n",
    "        url = 'https://upload.wikimedia.org/wikipedia/en/d/df/Harry_Potter_and_the_Deathly_Hallows_%E2%80%93_Part_2.jpg'\n",
    "    title = rank_title[3:]\n",
    "    df_list.append({'ranking': int(title_list.index(title) + 1),\n",
    "                    'title': title,\n",
    "                    'poster_url': url})\n",
    "    r = requests.get(url)\n",
    "    # Download movie poster image\n",
    "    i = Image.open(BytesIO(r.content))\n",
    "    image_file_format = url.split('.')[-1]\n",
    "    i.save(folder_name + \"/\" + rank_title + '.' + image_file_format)"
   ]
  },
  {
   "cell_type": "code",
   "execution_count": null,
   "metadata": {},
   "outputs": [],
   "source": [
    "# Create DataFrame from list of dictionaries\n",
    "df = pd.DataFrame(df_list, columns = ['ranking', 'title', 'poster_url'])\n",
    "df = df.sort_values('ranking').reset_index(drop=True)\n",
    "df"
   ]
  }
 ],
 "metadata": {
  "kernelspec": {
   "display_name": "Python 3",
   "language": "python",
   "name": "python3"
  },
  "language_info": {
   "codemirror_mode": {
    "name": "ipython",
    "version": 3
   },
   "file_extension": ".py",
   "mimetype": "text/x-python",
   "name": "python",
   "nbconvert_exporter": "python",
   "pygments_lexer": "ipython3",
   "version": "3.6.8"
  }
 },
 "nbformat": 4,
 "nbformat_minor": 2
}
